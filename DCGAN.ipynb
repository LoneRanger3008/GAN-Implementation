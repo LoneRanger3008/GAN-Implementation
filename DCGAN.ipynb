{
  "nbformat": 4,
  "nbformat_minor": 0,
  "metadata": {
    "kernelspec": {
      "display_name": "Python [conda env:Noice]",
      "language": "python",
      "name": "conda-env-Noice-py"
    },
    "language_info": {
      "codemirror_mode": {
        "name": "ipython",
        "version": 3
      },
      "file_extension": ".py",
      "mimetype": "text/x-python",
      "name": "python",
      "nbconvert_exporter": "python",
      "pygments_lexer": "ipython3",
      "version": "3.7.7"
    },
    "colab": {
      "name": "DCGAN.ipynb",
      "provenance": [],
      "collapsed_sections": [],
      "toc_visible": true
    },
    "accelerator": "GPU"
  },
  "cells": [
    {
      "cell_type": "code",
      "metadata": {
        "id": "ams94PHoLvnD"
      },
      "source": [
        "import tensorflow as tf\n",
        "import pandas as pd\n",
        "import numpy as np\n",
        "from tensorflow.keras.layers import Dense,Dropout,Conv2D,MaxPooling2D,BatchNormalization,Conv2DTranspose\n",
        "import matplotlib.pyplot as plt\n",
        "import pickle"
      ],
      "execution_count": null,
      "outputs": []
    },
    {
      "cell_type": "code",
      "metadata": {
        "id": "Bfsl4P0mLvnL"
      },
      "source": [
        "#generator model\n",
        "\n",
        "def generator_build(gen_input,image_size) :\n",
        "    \n",
        "    image_resize = image_size//4\n",
        "    layer_filters = [128,64,32,1]\n",
        "    kernel_size = 5\n",
        "    x = Dense(image_resize*image_resize*layer_filters[0])(gen_input)\n",
        "    x = tf.keras.layers.Reshape((image_resize,image_resize,layer_filters[0]))(x)\n",
        "    for filters in layer_filters :\n",
        "        if filters > layer_filters[-2]:\n",
        "            strides=2\n",
        "        else :\n",
        "            strides=1\n",
        "        x = BatchNormalization()(x)\n",
        "        x = tf.keras.layers.Activation('relu')(x)\n",
        "        x = Conv2DTranspose(filters=filters,kernel_size=kernel_size,strides=strides,padding='same')(x)\n",
        "    x = tf.keras.layers.Activation('sigmoid')(x)\n",
        "    generator_model = tf.keras.Model(inputs = gen_input,outputs=x,name='generator_model')\n",
        "    return generator_model"
      ],
      "execution_count": null,
      "outputs": []
    },
    {
      "cell_type": "code",
      "metadata": {
        "id": "5sVP9r-9LvnO"
      },
      "source": [
        "#discriminator model\n",
        "\n",
        "def discriminator_build(dis_input) :\n",
        "    kernel_size= 5\n",
        "    layer_filters = [32,64,128,256]\n",
        "    x = dis_input\n",
        "    for filters in layer_filters : \n",
        "        if filters == layer_filters[-1] :\n",
        "            strides = 1\n",
        "        else :\n",
        "            strides = 2\n",
        "        x = tf.keras.layers.LeakyReLU(alpha=0.2)(x)\n",
        "        x = Conv2D(filters=filters,kernel_size=kernel_size,strides=strides,padding='same')(x)\n",
        "        \n",
        "    x = tf.keras.layers.Flatten()(x)\n",
        "    x = Dense(1,activation='sigmoid')(x)\n",
        "    \n",
        "    discriminator = tf.keras.Model(inputs=dis_input,outputs=x,name='discriminator_model')\n",
        "    \n",
        "    return discriminator"
      ],
      "execution_count": null,
      "outputs": []
    },
    {
      "cell_type": "code",
      "metadata": {
        "id": "E18SX7l1LvnQ"
      },
      "source": [
        "def build_and_train_models():\n",
        "    (x_train,_),(_,_) = tf.keras.datasets.mnist.load_data()\n",
        "    image_size = x_train.shape[1]\n",
        "    x_train = np.reshape(x_train,[-1,image_size,image_size,1]).astype('float')/255\n",
        "    \n",
        "    \n",
        "    latent_size = 100\n",
        "    batch_size = 64\n",
        "    train_steps = 40000\n",
        "    lr = 2e-4\n",
        "    decay = 6e-8\n",
        "    input_shape = (image_size,image_size,1)\n",
        "    \n",
        "#    build discrimator model\n",
        "\n",
        "    discriminator = discriminator_build(tf.keras.layers.Input(shape = input_shape))\n",
        "    optimizer = tf.keras.optimizers.RMSprop(lr=lr,decay=decay)\n",
        "    discriminator.compile(loss ='binary_crossentropy',optimizer=optimizer,metrics=['accuracy'])\n",
        "    #discriminator.summary()\n",
        "    \n",
        "#    build generator model\n",
        "    inputs = tf.keras.layers.Input(shape = (latent_size,))\n",
        "    generator = generator_build(inputs,image_size)\n",
        "    #generator.summary()\n",
        "\n",
        "#    build adversial model\n",
        "    \n",
        "    optimizer = tf.keras.optimizers.RMSprop(lr=lr*0.5,decay=decay*0.5)\n",
        "    \n",
        "    discriminator.trainable = False\n",
        "    \n",
        "    adversial = tf.keras.Model(inputs,discriminator(generator(inputs)),name = 'dcgan_model')\n",
        "    \n",
        "    adversial.compile(loss='binary_crossentropy',optimizer= optimizer,metrics=['accuracy'])\n",
        "    #adversial.summary()\n",
        "    \n",
        "    \n",
        "#    train all models\n",
        "    models = (generator,discriminator,adversial)\n",
        "    params = (batch_size,latent_size,train_steps)\n",
        "    train(models,x_train,params)\n",
        "    return models"
      ],
      "execution_count": null,
      "outputs": []
    },
    {
      "cell_type": "code",
      "metadata": {
        "id": "QRaZJ4KPLvnT"
      },
      "source": [
        "def train(models,x_train,params) :\n",
        "    generator,discriminator,adversial = models\n",
        "    batch_size,latent_size,train_steps = params\n",
        "    train_size = x_train.shape[0]\n",
        "    save_interval = 500\n",
        "    #noise_input = np.random.uniform(-1.0,1.0,size=[])\n",
        "    for i in range(train_steps) :\n",
        "        rand_indexes = np.random.randint(0,train_size,size=batch_size)\n",
        "        real_images = x_train[rand_indexes]\n",
        "        \n",
        "        noise = np.random.uniform(-1.0,1.0,size=[batch_size,latent_size])\n",
        "        fake_images = generator.predict(noise)\n",
        "        x = np.concatenate((real_images,fake_images))\n",
        "        y = np.ones((2*batch_size,1))\n",
        "        y[batch_size:,:] = 0.0\n",
        "        \n",
        "        loss,acc = discriminator.train_on_batch(x,y)\n",
        "        log = \"%d: [discriminator loss: %f, acc: %f]\" % (i, loss, acc)\n",
        "        #print(log)\n",
        "        noise = np.random.uniform(-1.0,1.0,size=[batch_size,latent_size])\n",
        "        y = np.ones((batch_size,1))\n",
        "        loss,acc = adversial.train_on_batch(noise,y)\n",
        "        log = \"%s: [adversial loss: %f, acc: %f]\" % (log, loss, acc)\n",
        "        print(log)"
      ],
      "execution_count": null,
      "outputs": []
    },
    {
      "cell_type": "code",
      "metadata": {
        "id": "W-aq9XCbLvnV"
      },
      "source": [
        "models = build_and_train_models()"
      ],
      "execution_count": null,
      "outputs": []
    },
    {
      "cell_type": "code",
      "metadata": {
        "id": "pEztpLrtLvnY"
      },
      "source": [
        "generator,discriminator,adversial = models"
      ],
      "execution_count": null,
      "outputs": []
    },
    {
      "cell_type": "code",
      "metadata": {
        "id": "Hf8vUvGkLvnb",
        "outputId": "fe50f132-99ed-4c14-9e6a-4ed344fdafa9",
        "colab": {
          "base_uri": "https://localhost:8080/",
          "height": 485
        }
      },
      "source": [
        "noise = np.random.uniform(-1.0,1.0,size=[16,100])\n",
        "fake_image = generator.predict(noise)\n",
        "fig = plt.figure(figsize=(8,8))\n",
        "w = 28\n",
        "h = 28\n",
        "columns=4\n",
        "rows = 4\n",
        "for i in range(1,columns*rows+1) :\n",
        "  img = fake_image[i-1].reshape(28,28)\n",
        "  fig.add_subplot(rows,columns,i)\n",
        "  plt.imshow(img)\n",
        "plt.show()"
      ],
      "execution_count": null,
      "outputs": [
        {
          "output_type": "display_data",
          "data": {
            "image/png": "[encoded data removed]",
            "text/plain": [
              "<Figure size 576x576 with 16 Axes>"
            ]
          },
          "metadata": {
            "tags": [],
            "needs_background": "light"
          }
        }
      ]
    },
    {
      "cell_type": "code",
      "metadata": {
        "id": "PElxsei8Lvnd"
      },
      "source": [
        "model_json = generator.to_json()\n",
        "with open(\"dcgan.json\", \"w\") as json_file:\n",
        "    json_file.write(model_json)\n",
        "generator.save_weights(\"dcgan.h5\")"
      ],
      "execution_count": null,
      "outputs": []
    },
    {
      "cell_type": "code",
      "metadata": {
        "id": "yAjy0MLV_9CY"
      },
      "source": [
        ""
      ],
      "execution_count": null,
      "outputs": []
    }
  ]
}