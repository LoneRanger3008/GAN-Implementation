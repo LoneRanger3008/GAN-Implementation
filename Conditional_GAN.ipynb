{
  "nbformat": 4,
  "nbformat_minor": 0,
  "metadata": {
    "colab": {
      "name": "Conditional_GAN.ipynb",
      "provenance": [],
      "collapsed_sections": []
    },
    "kernelspec": {
      "name": "python3",
      "display_name": "Python 3"
    },
    "accelerator": "GPU"
  },
  "cells": [
    {
      "cell_type": "code",
      "metadata": {
        "id": "gTTkTt_CWjk2"
      },
      "source": [
        "import tensorflow as tf\n",
        "import numpy as np\n",
        "import matplotlib.pyplot as plt\n",
        "from tensorflow.keras.layers import Dense,Conv2D,Dropout,MaxPooling2D,Conv2DTranspose,Input,BatchNormalization"
      ],
      "execution_count": null,
      "outputs": []
    },
    {
      "cell_type": "code",
      "metadata": {
        "id": "x5V6oP_rXL_q"
      },
      "source": [
        "def build_generator(gen_input,label,img_size) :\n",
        "  img_resize = img_size//4\n",
        "  kernel_size = 5\n",
        "  layer_filters = [128,64,32,1]\n",
        "  x = tf.keras.layers.concatenate([gen_input,label],axis=1)\n",
        "  x = Dense(img_resize*img_resize*layer_filters[0])(x)\n",
        "  x = tf.keras.layers.Reshape((img_resize,img_resize,layer_filters[0]))(x)\n",
        "  for filters in layer_filters:\n",
        "    if filters > layer_filters[-2] :\n",
        "      strides= 2\n",
        "    else :\n",
        "      strides=1\n",
        "    x = BatchNormalization()(x)\n",
        "    x = tf.keras.layers.Activation('relu')(x)\n",
        "    x = Conv2DTranspose(filters=filters,kernel_size=kernel_size,strides=strides,padding='same')(x)\n",
        "  x = tf.keras.layers.Activation('sigmoid')(x)\n",
        "  generator_model = tf.keras.Model(inputs=[gen_input,label],outputs=x,name='generator_model')\n",
        "  return generator_model"
      ],
      "execution_count": null,
      "outputs": []
    },
    {
      "cell_type": "code",
      "metadata": {
        "id": "sswpAOT2aT6v"
      },
      "source": [
        "def build_discriminator(dis_input,label,image_size) :\n",
        "  kernel_size = 5\n",
        "  layer_filters = [32,64,128,256]\n",
        "  y = Dense(image_size*image_size)(label)\n",
        "  y = tf.keras.layers.Reshape((image_size,image_size,1))(y)\n",
        "  x = dis_input\n",
        "  x = tf.keras.layers.concatenate([x,y])\n",
        "  for filters in layer_filters :\n",
        "    if filters == layer_filters[-1] :\n",
        "      strides = 1\n",
        "    else :\n",
        "      strides = 2\n",
        "    x = tf.keras.layers.LeakyReLU(alpha = 0.2)(x)\n",
        "    x = Conv2D(filters=filters,kernel_size=kernel_size,padding='same',strides=strides)(x)\n",
        "  x = tf.keras.layers.Flatten()(x)\n",
        "  x = Dense(1,activation='sigmoid')(x)\n",
        "  discriminator_model = tf.keras.Model(inputs=[dis_input,label],outputs=x,name='discriminator_model')\n",
        "  return discriminator_model"
      ],
      "execution_count": null,
      "outputs": []
    },
    {
      "cell_type": "code",
      "metadata": {
        "id": "Kz_nwUoKb_9J",
        "outputId": "1e86d44b-07f7-4be6-e102-58dd8bd84738",
        "colab": {
          "base_uri": "https://localhost:8080/",
          "height": 1000
        }
      },
      "source": [
        "(x_train,y_train) , (_,_) = tf.keras.datasets.mnist.load_data()\n",
        "image_size = x_train.shape[1]\n",
        "train_size = x_train.shape[0]\n",
        "x_train = np.reshape(x_train,[-1,image_size,image_size,1]).astype('float')/255\n",
        "y_train = tf.keras.utils.to_categorical(y_train)\n",
        "num_categories =  10\n",
        "latent_size = 100\n",
        "batch_size = 64\n",
        "train_steps = 10000\n",
        "lr = 2e-4\n",
        "decay = 6e-8\n",
        "input_shape = (image_size,image_size,1)\n",
        "\n",
        "#    build discrimator model\n",
        "\n",
        "discriminator = build_discriminator(tf.keras.layers.Input(shape = input_shape),tf.keras.layers.Input(shape=(num_categories,)),image_size)\n",
        "optimizer = tf.keras.optimizers.RMSprop(lr=lr,decay=decay)\n",
        "discriminator.compile(loss ='binary_crossentropy',optimizer=optimizer,metrics=['accuracy'])\n",
        "discriminator.summary()\n",
        "    \n",
        "#    build generator model\n",
        "input1 = tf.keras.layers.Input(shape = (latent_size,))\n",
        "input2 = tf.keras.layers.Input(shape=(num_categories,))\n",
        "generator = build_generator(tf.keras.layers.Input(shape = (latent_size,)),tf.keras.layers.Input(shape=(num_categories,)),image_size)\n",
        "\n",
        "generator.summary()\n",
        "\n",
        "#   build adversial model\n",
        "    \n",
        "optimizer = tf.keras.optimizers.RMSprop(lr=lr*0.5,decay=decay*0.5)\n",
        "\n",
        "discriminator.trainable = False\n",
        "adversial = tf.keras.Model(inputs=[input1,input2],outputs= discriminator([generator([input1,input2]),input2]),name = 'adversial_model')\n",
        "adversial.compile(loss='binary_crossentropy',optimizer= optimizer,metrics=['accuracy'])\n",
        "adversial.summary()"
      ],
      "execution_count": null,
      "outputs": [
        {
          "output_type": "stream",
          "text": [
            "Model: \"discriminator_model\"\n",
            "__________________________________________________________________________________________________\n",
            "Layer (type)                    Output Shape         Param #     Connected to                     \n",
            "==================================================================================================\n",
            "input_32 (InputLayer)           [(None, 10)]         0                                            \n",
            "__________________________________________________________________________________________________\n",
            "dense_18 (Dense)                (None, 784)          8624        input_32[0][0]                   \n",
            "__________________________________________________________________________________________________\n",
            "input_31 (InputLayer)           [(None, 28, 28, 1)]  0                                            \n",
            "__________________________________________________________________________________________________\n",
            "reshape_12 (Reshape)            (None, 28, 28, 1)    0           dense_18[0][0]                   \n",
            "__________________________________________________________________________________________________\n",
            "concatenate_12 (Concatenate)    (None, 28, 28, 2)    0           input_31[0][0]                   \n",
            "                                                                 reshape_12[0][0]                 \n",
            "__________________________________________________________________________________________________\n",
            "leaky_re_lu_24 (LeakyReLU)      (None, 28, 28, 2)    0           concatenate_12[0][0]             \n",
            "__________________________________________________________________________________________________\n",
            "conv2d_24 (Conv2D)              (None, 14, 14, 32)   1632        leaky_re_lu_24[0][0]             \n",
            "__________________________________________________________________________________________________\n",
            "leaky_re_lu_25 (LeakyReLU)      (None, 14, 14, 32)   0           conv2d_24[0][0]                  \n",
            "__________________________________________________________________________________________________\n",
            "conv2d_25 (Conv2D)              (None, 7, 7, 64)     51264       leaky_re_lu_25[0][0]             \n",
            "__________________________________________________________________________________________________\n",
            "leaky_re_lu_26 (LeakyReLU)      (None, 7, 7, 64)     0           conv2d_25[0][0]                  \n",
            "__________________________________________________________________________________________________\n",
            "conv2d_26 (Conv2D)              (None, 4, 4, 128)    204928      leaky_re_lu_26[0][0]             \n",
            "__________________________________________________________________________________________________\n",
            "leaky_re_lu_27 (LeakyReLU)      (None, 4, 4, 128)    0           conv2d_26[0][0]                  \n",
            "__________________________________________________________________________________________________\n",
            "conv2d_27 (Conv2D)              (None, 4, 4, 256)    819456      leaky_re_lu_27[0][0]             \n",
            "__________________________________________________________________________________________________\n",
            "flatten_6 (Flatten)             (None, 4096)         0           conv2d_27[0][0]                  \n",
            "__________________________________________________________________________________________________\n",
            "dense_19 (Dense)                (None, 1)            4097        flatten_6[0][0]                  \n",
            "==================================================================================================\n",
            "Total params: 1,090,001\n",
            "Trainable params: 1,090,001\n",
            "Non-trainable params: 0\n",
            "__________________________________________________________________________________________________\n",
            "Model: \"generator_model\"\n",
            "__________________________________________________________________________________________________\n",
            "Layer (type)                    Output Shape         Param #     Connected to                     \n",
            "==================================================================================================\n",
            "input_35 (InputLayer)           [(None, 100)]        0                                            \n",
            "__________________________________________________________________________________________________\n",
            "input_36 (InputLayer)           [(None, 10)]         0                                            \n",
            "__________________________________________________________________________________________________\n",
            "concatenate_13 (Concatenate)    (None, 110)          0           input_35[0][0]                   \n",
            "                                                                 input_36[0][0]                   \n",
            "__________________________________________________________________________________________________\n",
            "dense_20 (Dense)                (None, 6272)         696192      concatenate_13[0][0]             \n",
            "__________________________________________________________________________________________________\n",
            "reshape_13 (Reshape)            (None, 7, 7, 128)    0           dense_20[0][0]                   \n",
            "__________________________________________________________________________________________________\n",
            "batch_normalization_24 (BatchNo (None, 7, 7, 128)    512         reshape_13[0][0]                 \n",
            "__________________________________________________________________________________________________\n",
            "activation_30 (Activation)      (None, 7, 7, 128)    0           batch_normalization_24[0][0]     \n",
            "__________________________________________________________________________________________________\n",
            "conv2d_transpose_24 (Conv2DTran (None, 14, 14, 128)  409728      activation_30[0][0]              \n",
            "__________________________________________________________________________________________________\n",
            "batch_normalization_25 (BatchNo (None, 14, 14, 128)  512         conv2d_transpose_24[0][0]        \n",
            "__________________________________________________________________________________________________\n",
            "activation_31 (Activation)      (None, 14, 14, 128)  0           batch_normalization_25[0][0]     \n",
            "__________________________________________________________________________________________________\n",
            "conv2d_transpose_25 (Conv2DTran (None, 28, 28, 64)   204864      activation_31[0][0]              \n",
            "__________________________________________________________________________________________________\n",
            "batch_normalization_26 (BatchNo (None, 28, 28, 64)   256         conv2d_transpose_25[0][0]        \n",
            "__________________________________________________________________________________________________\n",
            "activation_32 (Activation)      (None, 28, 28, 64)   0           batch_normalization_26[0][0]     \n",
            "__________________________________________________________________________________________________\n",
            "conv2d_transpose_26 (Conv2DTran (None, 28, 28, 32)   51232       activation_32[0][0]              \n",
            "__________________________________________________________________________________________________\n",
            "batch_normalization_27 (BatchNo (None, 28, 28, 32)   128         conv2d_transpose_26[0][0]        \n",
            "__________________________________________________________________________________________________\n",
            "activation_33 (Activation)      (None, 28, 28, 32)   0           batch_normalization_27[0][0]     \n",
            "__________________________________________________________________________________________________\n",
            "conv2d_transpose_27 (Conv2DTran (None, 28, 28, 1)    801         activation_33[0][0]              \n",
            "__________________________________________________________________________________________________\n",
            "activation_34 (Activation)      (None, 28, 28, 1)    0           conv2d_transpose_27[0][0]        \n",
            "==================================================================================================\n",
            "Total params: 1,364,225\n",
            "Trainable params: 1,363,521\n",
            "Non-trainable params: 704\n",
            "__________________________________________________________________________________________________\n",
            "Model: \"adversial_model\"\n",
            "__________________________________________________________________________________________________\n",
            "Layer (type)                    Output Shape         Param #     Connected to                     \n",
            "==================================================================================================\n",
            "input_33 (InputLayer)           [(None, 100)]        0                                            \n",
            "__________________________________________________________________________________________________\n",
            "input_34 (InputLayer)           [(None, 10)]         0                                            \n",
            "__________________________________________________________________________________________________\n",
            "generator_model (Model)         (None, 28, 28, 1)    1364225     input_33[0][0]                   \n",
            "                                                                 input_34[0][0]                   \n",
            "__________________________________________________________________________________________________\n",
            "discriminator_model (Model)     (None, 1)            1090001     generator_model[1][0]            \n",
            "                                                                 input_34[0][0]                   \n",
            "==================================================================================================\n",
            "Total params: 2,454,226\n",
            "Trainable params: 1,363,521\n",
            "Non-trainable params: 1,090,705\n",
            "__________________________________________________________________________________________________\n"
          ],
          "name": "stdout"
        }
      ]
    },
    {
      "cell_type": "code",
      "metadata": {
        "id": "-DZkRU_ZgoQK"
      },
      "source": [
        "def train(models, data, params):\n",
        "  generator, discriminator, adversarial = models\n",
        "  x_train, y_train = data\n",
        "  batch_size, latent_size, train_steps, num_categories =params\n",
        "  train_size = x_train.shape[0]\n",
        "  for i in range(train_steps):\n",
        "    rand_indexes = np.random.randint(0, train_size,size=batch_size)\n",
        "    real_images = x_train[rand_indexes]\n",
        "    real_labels = y_train[rand_indexes]\n",
        "    noise = np.random.uniform(-1.0, 1.0, size=[batch_size,latent_size])\n",
        "    fake_labels = np.eye(num_categories)[np.random.choice(num_categories,batch_size)]\n",
        "    fake_images = generator.predict([noise, fake_labels])\n",
        "    x = np.concatenate((real_images, fake_images))\n",
        "    y_labels = np.concatenate((real_labels, fake_labels))\n",
        "    y = np.ones([2 * batch_size, 1])\n",
        "    y[batch_size:, :] = 0.0\n",
        "    loss, acc = discriminator.train_on_batch([x, y_labels], y)\n",
        "    log = \"%d: [discriminator loss: %f, acc: %f]\" % (i, loss, acc)\n",
        "    noise = np.random.uniform(-1.0, 1.0, size=[batch_size,latent_size])\n",
        "    fake_labels = np.eye(num_categories)[np.random.choice(num_categories,batch_size)]\n",
        "    y = np.ones([batch_size, 1])\n",
        "    loss, acc = adversarial.train_on_batch([noise, fake_labels],y)\n",
        "    log = \"%s [adversarial loss: %f, acc: %f]\" % (log, loss, acc)\n",
        "    print(log)"
      ],
      "execution_count": null,
      "outputs": []
    },
    {
      "cell_type": "code",
      "metadata": {
        "id": "XEsCflJot0Fj"
      },
      "source": [
        "models = generator,discriminator,adversial\n",
        "params = batch_size, latent_size, train_steps, num_categories\n",
        "data = x_train,y_train"
      ],
      "execution_count": null,
      "outputs": []
    },
    {
      "cell_type": "code",
      "metadata": {
        "id": "VwLa4gk2uFyX"
      },
      "source": [
        "for _ in range(3) :\n",
        "  train(models,data,params)"
      ],
      "execution_count": null,
      "outputs": []
    },
    {
      "cell_type": "code",
      "metadata": {
        "id": "-uSP49vjupZ8"
      },
      "source": [
        "model_json = generator.to_json()\n",
        "with open(\"conditional_gan.json\", \"w\") as json_file:\n",
        "    json_file.write(model_json)\n",
        "generator.save_weights(\"conditional_gan.h5\")"
      ],
      "execution_count": null,
      "outputs": []
    },
    {
      "cell_type": "code",
      "metadata": {
        "id": "_yC0F72z8Jby",
        "outputId": "71a1c7d2-cc56-41a9-da71-d88f3565365c",
        "colab": {
          "base_uri": "https://localhost:8080/",
          "height": 485
        }
      },
      "source": [
        "fake_input = np.random.uniform(-1.0,1.0,size=[16,latent_size])\n",
        "labels = np.eye(num_categories)[[i%10 for i in range(16)]]\n",
        "fake_images = generator.predict([fake_input,labels])\n",
        "fig = plt.figure(figsize=(8,8))\n",
        "w=28\n",
        "h=28\n",
        "rows=4\n",
        "columns=4\n",
        "for i in range(1,columns*rows+1) :\n",
        "  img = fake_images[i-1].reshape(28,28)\n",
        "  fig.add_subplot(rows,columns,i)\n",
        "  plt.imshow(img)\n",
        "plt.show()"
      ],
      "execution_count": null,
      "outputs": [
        {
          "output_type": "display_data",
          "data": {
            "image/png": "[encoded data removed]",
            "text/plain": [
              "<Figure size 576x576 with 16 Axes>"
            ]
          },
          "metadata": {
            "tags": [],
            "needs_background": "light"
          }
        }
      ]
    },
    {
      "cell_type": "code",
      "metadata": {
        "id": "ZcuS5d_DSF8j"
      },
      "source": [
        ""
      ],
      "execution_count": null,
      "outputs": []
    }
  ]
}